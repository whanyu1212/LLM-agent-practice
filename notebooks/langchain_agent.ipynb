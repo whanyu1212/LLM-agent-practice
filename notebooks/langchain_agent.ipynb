{
 "cells": [
  {
   "cell_type": "code",
   "execution_count": 1,
   "metadata": {},
   "outputs": [
    {
     "data": {
      "text/plain": [
       "True"
      ]
     },
     "execution_count": 1,
     "metadata": {},
     "output_type": "execute_result"
    }
   ],
   "source": [
    "# replace the standard sqlite3 module with pysqlite3\n",
    "# for compatibility with Chroma\n",
    "__import__('pysqlite3')\n",
    "import sys\n",
    "sys.modules['sqlite3'] = sys.modules.pop('pysqlite3')\n",
    "\n",
    "import json\n",
    "import langchain\n",
    "import os\n",
    "import bs4\n",
    "from dotenv import load_dotenv\n",
    "from langchain_community.tools.tavily_search import TavilySearchResults\n",
    "from langchain_community.document_loaders import WebBaseLoader\n",
    "from langchain_text_splitters import RecursiveCharacterTextSplitter\n",
    "from langchain.tools.retriever import create_retriever_tool\n",
    "from langchain_community.vectorstores import FAISS\n",
    "from langchain_huggingface import HuggingFaceEmbeddings\n",
    "from langchain_google_vertexai import ChatVertexAI\n",
    "from langgraph.prebuilt import chat_agent_executor\n",
    "from langchain_core.messages import HumanMessage\n",
    "from langchain_core.prompts import PromptTemplate\n",
    "from langchain_core.output_parsers import StrOutputParser\n",
    "from langchain_core.runnables import RunnablePassthrough\n",
    "from langchain.chains import create_retrieval_chain\n",
    "from langchain.chains.combine_documents import create_stuff_documents_chain\n",
    "from langchain.chains import create_history_aware_retriever\n",
    "from langchain_core.prompts import MessagesPlaceholder\n",
    "from langchain_community.chat_message_histories import ChatMessageHistory\n",
    "from langchain_core.chat_history import BaseChatMessageHistory\n",
    "from langchain_core.runnables.history import RunnableWithMessageHistory\n",
    "from langchain.agents import AgentExecutor, create_tool_calling_agent\n",
    "from langchain_core.prompts import ChatPromptTemplate\n",
    "from langchain_core.prompts import PipelinePromptTemplate, PromptTemplate\n",
    "from langchain_core.output_parsers import JsonOutputParser\n",
    "from langchain.pydantic_v1 import BaseModel, Field\n",
    "from langchain_core.tools import StructuredTool\n",
    "from typing import Optional, Type\n",
    "from langchain.tools import BaseTool\n",
    "from langchain_core.messages import SystemMessage\n",
    "from langgraph.checkpoint import MemorySaver  # an in-memory checkpointer\n",
    "from langgraph.prebuilt import create_react_agent\n",
    "\n",
    "# load environment variables\n",
    "load_dotenv()"
   ]
  },
  {
   "cell_type": "code",
   "execution_count": 2,
   "metadata": {},
   "outputs": [],
   "source": [
    "os.environ[\"LANGCHAIN_TRACING_V2\"] = \"true\"\n",
    "\n",
    "# credential json not required if you are working within vertex AI workbench\n",
    "os.environ[\"GOOGLE_APPLICATION_CREDENTIALS\"] = \"/workspaces/LLM-agent-with-Gemini/fleet-anagram-244304-7dafcc771b2f.json\"\n",
    "\n",
    "LANGCHAIN_API_KEY = os.getenv(\"LANGCHAIN_API_KEY\")\n",
    "GEMINI_API_KEY = os.getenv(\"GEMINI_API_KEY\")\n",
    "TAVILY_API_KEY = os.getenv(\"TAVILY_API_KEY\")\n",
    "OPENAI_API_KEY = os.getenv(\"OPENAI_API_KEY\")\n",
    "os.environ[\"GOOGLE_API_KEY\"] = os.getenv(\"GOOGLE_API_KEY\") # only if you are using text embedding model from google"
   ]
  },
  {
   "cell_type": "code",
   "execution_count": 3,
   "metadata": {},
   "outputs": [],
   "source": [
    "llm = ChatVertexAI(model=\"gemini-1.5-pro\")"
   ]
  },
  {
   "cell_type": "code",
   "execution_count": null,
   "metadata": {},
   "outputs": [],
   "source": [
    "\n",
    "full_template = \"\"\"{introduction}\n",
    "\n",
    "{example}\n",
    "\n",
    "{start}\"\"\"\n",
    "full_prompt = PromptTemplate.from_template(full_template)\n",
    "\n",
    "introduction_template = \"\"\"You are a helpful assistant that can help me to complete the following API payload:\"\"\"\n",
    "introduction_prompt = PromptTemplate.from_template(introduction_template)\n",
    "\n",
    "example_template = \"\"\"Here are some examples of interactions you might have with me:\n",
    "\n",
    "Q: B16C, 1126911, FPP\n",
    "A: name:p.dsid,value, value:B16C, name:p.lot, value:1126911, name:p.type, value:FPP\n",
    "\n",
    "Q: Y42M, 11952591, FQQP\n",
    "A: name:p.dsid, value:Y42M, name:p.lot, value:11952591, name:p.type, value:FQQP\n",
    "\n",
    "Q: Y42M, 1252391, FPC\n",
    "A: name:p.dsid, value:Y42M, name:p.lot, value:1252391, name:p.type, value:FPC\n",
    "\n",
    "Wrap the answer in a dictionary with the structure of the example above. The input will be a string with the format \"dsid, lot, type\" \n",
    "and the output should be a dictionary with the keys \"name:p.dsid\", \"name:p.lot\", and \"name:p.type\" with the corresponding values from the input string.\n",
    "\n",
    "\"\"\"\n",
    "\n",
    "\n",
    "example_prompt = PromptTemplate.from_template(example_template)\n",
    "\n",
    "start_template = \"\"\"Now, do this for real!\n",
    "\n",
    "Q: {input}\n",
    "A:\"\"\"\n",
    "start_prompt = PromptTemplate.from_template(start_template)\n",
    "\n",
    "input_prompts = [\n",
    "    (\"introduction\", introduction_prompt),\n",
    "    (\"example\", example_prompt),\n",
    "    (\"start\", start_prompt),\n",
    "]\n",
    "pipeline_prompt = PipelinePromptTemplate(\n",
    "    final_prompt=full_prompt, pipeline_prompts=input_prompts\n",
    ")\n",
    "\n",
    "pipeline_prompt.input_variables"
   ]
  },
  {
   "cell_type": "code",
   "execution_count": null,
   "metadata": {},
   "outputs": [],
   "source": [
    "print(\n",
    "    pipeline_prompt.format(\n",
    "        input=\"B16C, 1126911, FPP\",\n",
    "    )\n",
    ")"
   ]
  },
  {
   "cell_type": "code",
   "execution_count": null,
   "metadata": {},
   "outputs": [],
   "source": [
    "chain = pipeline_prompt | llm | JsonOutputParser()\n",
    "\n",
    "output = chain.invoke({\"input\": \"B47R,1952591,FPC\"})\n",
    "print(output)\n"
   ]
  },
  {
   "cell_type": "code",
   "execution_count": null,
   "metadata": {},
   "outputs": [],
   "source": [
    "def format_input(input_string):\n",
    "    parts = input_string.replace('.', '').split(',')\n",
    "    parts = [part.strip() for part in parts if part.strip() != '']\n",
    "    if len(parts) != 3:\n",
    "        raise ValueError(\"Please check that the input contains exactly three parts: dsid, lot, and pid.\")\n",
    "    for part in parts:\n",
    "        if part[0].isalpha() and part[-1].isalpha() and part[1:-1].isdigit():\n",
    "            dsid = part\n",
    "        elif part.isdigit():\n",
    "            lot = part\n",
    "        else:\n",
    "            type_ = part\n",
    "    output = {\n",
    "        \"name:p.dsid\": dsid,\n",
    "        \"name:p.lot\": lot,\n",
    "        \"name:p.type\": type_\n",
    "    }\n",
    "    return output"
   ]
  },
  {
   "cell_type": "code",
   "execution_count": null,
   "metadata": {},
   "outputs": [],
   "source": [
    "format_input(\"1952591,,,,,B47R,FPC\")"
   ]
  },
  {
   "cell_type": "code",
   "execution_count": null,
   "metadata": {},
   "outputs": [],
   "source": [
    "look_up_dictionary = {\n",
    "    \"Map viewer for detecting defects\":\"https://www.python.org/\",\n",
    "    \"time series trends\":\"http://python.langchain.com\"\n",
    "}"
   ]
  },
  {
   "cell_type": "code",
   "execution_count": 13,
   "metadata": {},
   "outputs": [],
   "source": [
    "class GenericInputSchema(BaseModel):\n",
    "    \"\"\"Inputs for url navigation tool.\"\"\"\n",
    "    domain: str = Field(\n",
    "        description=\"The domain of the website you want to navigate to.\")\n",
    "\n",
    "class ParamInputSchema(BaseModel):\n",
    "    \"\"\"Inputs API payload.\"\"\"\n",
    "    params: str = Field(\n",
    "        description=\"The input string with the format 'dsid, lot, type', which can be used to create a dictionary with the keys 'name:p.dsid', 'name:p.lot', and 'name:p.type'.\")\n",
    "    \n",
    "class payload_formatter(BaseTool):\n",
    "    name: str = \"payload_formatter\"\n",
    "    args_schema: Optional[Type[BaseModel]] = ParamInputSchema\n",
    "    description: str = \"\"\"\n",
    "    \n",
    "    payload formatter is a tool that takes an input string with the format 'dsid, lot, type' and returns a dictionary with the keys 'name:p.dsid', 'name:p.lot', and 'name:p.type'.\n",
    "    \"\"\"\n",
    "    def format_input(self,input_string):\n",
    "        parts = input_string.replace('.', '').split(',')\n",
    "        parts = [part.strip() for part in parts if part.strip() != '']\n",
    "        if len(parts) != 3:\n",
    "            raise ValueError(\"Please check that the input contains exactly three parts: dsid, lot, and pid.\")\n",
    "        for part in parts:\n",
    "            if part[0].isalpha() and part[-1].isalpha() and part[1:-1].isdigit():\n",
    "                dsid = part\n",
    "            elif part.isdigit():\n",
    "                lot = part\n",
    "            else:\n",
    "                type_ = part\n",
    "        output = {\n",
    "            \"name:p.dsid\": dsid,\n",
    "            \"name:p.lot\": lot,\n",
    "            \"name:p.type\": type_\n",
    "        }\n",
    "        return output\n",
    "\n",
    "    def _run(self, params: str):\n",
    "        return self.format_input(params)\n",
    "    \n",
    "class url_navigator(BaseTool):\n",
    "    name: str = \"map_viewer_url\"\n",
    "    args_schema: Optional[Type[BaseModel]] = GenericInputSchema\n",
    "    description: str = \"\"\"\n",
    "    \n",
    "    url navigator is a tool that takes a domain as input and returns the url of the website you want to navigate to.\n",
    "    \"\"\"\n",
    "\n",
    "    def _run(self, domain: str):\n",
    "        return f\"www.{domain}.com\""
   ]
  },
  {
   "cell_type": "code",
   "execution_count": 14,
   "metadata": {},
   "outputs": [],
   "source": [
    "tools = [url_navigator(), payload_formatter()]"
   ]
  },
  {
   "cell_type": "code",
   "execution_count": 15,
   "metadata": {},
   "outputs": [],
   "source": [
    "system_message = \"You are a helpful assistant and you know how to use url navigator tool and payload formatter tool.\"\n",
    "# This could also be a SystemMessage object\n",
    "# system_message = SystemMessage(content=\"You are a helpful assistant. Respond only in Spanish.\")\n",
    "\n",
    "memory = MemorySaver()\n",
    "app = create_react_agent(\n",
    "    llm, tools, messages_modifier=system_message, checkpointer=memory\n",
    ")\n"
   ]
  },
  {
   "cell_type": "code",
   "execution_count": 17,
   "metadata": {},
   "outputs": [
    {
     "name": "stdout",
     "output_type": "stream",
     "text": [
      "{'name:p.dsid': 'B47R', 'name:p.lot': '1952591', 'name:p.type': 'FPC'}\n",
      "www.langchain.com\n"
     ]
    }
   ],
   "source": [
    "config = {\"configurable\": {\"thread_id\": \"test-thread\"}}\n",
    "\n",
    "print(\n",
    "    app.invoke(\n",
    "        {\n",
    "            \"messages\": [\n",
    "                (\"user\", \"1952591,,,,,B47R,FPC\")\n",
    "            ]\n",
    "        },\n",
    "        config,\n",
    "    )[\"messages\"][-1].content\n",
    ")\n",
    "\n",
    "\n",
    "print(\n",
    "    app.invoke(\n",
    "        {\n",
    "            \"messages\": [\n",
    "                (\"Navigate to langchain\")\n",
    "            ]\n",
    "        },\n",
    "        config,\n",
    "    )[\"messages\"][-1].content\n",
    ")"
   ]
  }
 ],
 "metadata": {
  "kernelspec": {
   "display_name": "llm-agent-with-gemini-6S2l9oJE-py3.10",
   "language": "python",
   "name": "python3"
  },
  "language_info": {
   "codemirror_mode": {
    "name": "ipython",
    "version": 3
   },
   "file_extension": ".py",
   "mimetype": "text/x-python",
   "name": "python",
   "nbconvert_exporter": "python",
   "pygments_lexer": "ipython3",
   "version": "3.10.13"
  }
 },
 "nbformat": 4,
 "nbformat_minor": 2
}
