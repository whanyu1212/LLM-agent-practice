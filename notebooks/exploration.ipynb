{
 "cells": [
  {
   "cell_type": "code",
   "execution_count": 12,
   "metadata": {},
   "outputs": [
    {
     "data": {
      "text/plain": [
       "True"
      ]
     },
     "execution_count": 12,
     "metadata": {},
     "output_type": "execute_result"
    }
   ],
   "source": [
    "# replace the standard sqlite3 module with pysqlite3\n",
    "# for compatibility with Chroma\n",
    "__import__('pysqlite3')\n",
    "import sys\n",
    "sys.modules['sqlite3'] = sys.modules.pop('pysqlite3')\n",
    "\n",
    "\n",
    "import langchain\n",
    "import os\n",
    "import bs4\n",
    "from dotenv import load_dotenv\n",
    "from langchain_community.tools.tavily_search import TavilySearchResults\n",
    "from langchain_community.document_loaders import WebBaseLoader\n",
    "from langchain_text_splitters import RecursiveCharacterTextSplitter\n",
    "from langchain_chroma import Chroma\n",
    "from langchain_openai import OpenAIEmbeddings\n",
    "from langchain_google_vertexai import ChatVertexAI\n",
    "from langchain_core.prompts import PromptTemplate\n",
    "from langchain_core.output_parsers import StrOutputParser\n",
    "from langchain_core.runnables import RunnablePassthrough\n",
    "from langchain.chains import create_retrieval_chain\n",
    "from langchain.chains.combine_documents import create_stuff_documents_chain\n",
    "from langchain.chains import create_history_aware_retriever\n",
    "from langchain_core.prompts import ChatPromptTemplate\n",
    "from langchain_core.prompts import MessagesPlaceholder\n",
    "from langchain_community.chat_message_histories import ChatMessageHistory\n",
    "from langchain_core.chat_history import BaseChatMessageHistory\n",
    "from langchain_core.runnables.history import RunnableWithMessageHistory\n",
    "\n",
    "# load environment variables\n",
    "load_dotenv()"
   ]
  },
  {
   "cell_type": "code",
   "execution_count": null,
   "metadata": {},
   "outputs": [],
   "source": [
    "# print(\"LANGCHAIN_API_KEY\", os.getenv(\"LANGCHAIN_API_KEY\"))\n",
    "# print(\"GEMINI_API_KEY\", os.getenv(\"GEMINI_API_KEY\"))\n",
    "# print(\"TAVILI_API_KEY\", os.getenv(\"TAVILY_API_KEY\"))"
   ]
  },
  {
   "cell_type": "code",
   "execution_count": 2,
   "metadata": {},
   "outputs": [],
   "source": [
    "os.environ[\"LANGCHAIN_TRACING_V2\"] = \"true\"\n",
    "os.environ[\"GOOGLE_APPLICATION_CREDENTIALS\"] = \"/workspaces/LLM-agent-with-Gemini/fleet-anagram-244304-7dafcc771b2f.json\"\n",
    "LANGCHAIN_API_KEY = os.getenv(\"LANGCHAIN_API_KEY\")\n",
    "GEMINI_API_KEY = os.getenv(\"GEMINI_API_KEY\")\n",
    "TAVILY_API_KEY = os.getenv(\"TAVILY_API_KEY\")\n",
    "OPENAI_API_KEY = os.getenv(\"OPENAI_API_KEY\")\n",
    "GOOGLE_API_KEY = os.getenv(\"GEMINI_API_KEY\")"
   ]
  },
  {
   "cell_type": "code",
   "execution_count": null,
   "metadata": {},
   "outputs": [],
   "source": [
    "search = TavilySearchResults(max_results=2)\n",
    "search.invoke(\"what are some of the Julia language rules\")"
   ]
  },
  {
   "cell_type": "code",
   "execution_count": 3,
   "metadata": {},
   "outputs": [],
   "source": [
    "web_paths = [\n",
    "    \"https://google.github.io/styleguide/pyguide.html\",\n",
    "    \"https://google.github.io/styleguide/Rguide.html\",\n",
    "    \"https://google.github.io/styleguide/cppguide.html\",\n",
    "    \"https://google.github.io/styleguide/go/\",\n",
    "    \"https://google.github.io/styleguide/javaguide.html\"\n",
    "]\n",
    "\n",
    "# Only keep post title, headers, and content from the full HTML.\n",
    "# bs4_strainer = bs4.SoupStrainer(class_=(\"post-title\", \"post-header\", \"post-content\"))\n",
    "\n",
    "docs = []\n",
    "for path in web_paths:\n",
    "    loader = WebBaseLoader(web_paths=(path,),\n",
    "                        #    bs_kwargs={\"parse_only\": bs4_strainer}\n",
    "    )\n",
    "    docs += loader.load()"
   ]
  },
  {
   "cell_type": "code",
   "execution_count": null,
   "metadata": {},
   "outputs": [],
   "source": [
    "len(docs[0].page_content)"
   ]
  },
  {
   "cell_type": "code",
   "execution_count": 4,
   "metadata": {},
   "outputs": [
    {
     "data": {
      "text/plain": [
       "468"
      ]
     },
     "execution_count": 4,
     "metadata": {},
     "output_type": "execute_result"
    }
   ],
   "source": [
    "\n",
    "text_splitter = RecursiveCharacterTextSplitter(\n",
    "    chunk_size=1000, chunk_overlap=200, add_start_index=True\n",
    ")\n",
    "all_splits = text_splitter.split_documents(docs)\n",
    "\n",
    "len(all_splits)"
   ]
  },
  {
   "cell_type": "code",
   "execution_count": null,
   "metadata": {},
   "outputs": [],
   "source": [
    "all_splits[10].metadata"
   ]
  },
  {
   "cell_type": "code",
   "execution_count": 5,
   "metadata": {},
   "outputs": [],
   "source": [
    "vectorstore = Chroma.from_documents(documents=all_splits, embedding = OpenAIEmbeddings())"
   ]
  },
  {
   "cell_type": "code",
   "execution_count": 6,
   "metadata": {},
   "outputs": [
    {
     "data": {
      "text/plain": [
       "6"
      ]
     },
     "execution_count": 6,
     "metadata": {},
     "output_type": "execute_result"
    }
   ],
   "source": [
    "retriever = vectorstore.as_retriever(search_type=\"similarity\", search_kwargs={\"k\": 6})\n",
    "\n",
    "retrieved_docs = retriever.invoke(\"What are the python linting rules\")\n",
    "\n",
    "len(retrieved_docs)"
   ]
  },
  {
   "cell_type": "code",
   "execution_count": 7,
   "metadata": {},
   "outputs": [
    {
     "name": "stdout",
     "output_type": "stream",
     "text": [
      "2 Python Language Rules\n",
      "\n",
      "\n",
      "\n",
      "2.1 Lint\n",
      "Run pylint over your code using this pylintrc.\n",
      "\n",
      "\n",
      "\n",
      "2.1.1 Definition\n",
      "pylint\n",
      "is a tool for finding bugs and style problems in Python source code. It finds\n",
      "problems that are typically caught by a compiler for less dynamic languages like\n",
      "C and C++. Because of the dynamic nature of Python, some\n",
      "warnings may be incorrect; however, spurious warnings should be fairly\n",
      "infrequent.\n",
      "\n",
      "\n",
      "\n",
      "2.1.2 Pros\n",
      "Catches easy-to-miss errors like typos, using-vars-before-assignment, etc.\n",
      "\n",
      "\n",
      "\n",
      "2.1.3 Cons\n",
      "pylint\n",
      "isn’t perfect. To take advantage of it, sometimes we’ll need to write around it,\n",
      "suppress its warnings or fix it.\n",
      "\n",
      "\n",
      "\n",
      "2.1.4 Decision\n",
      "Make sure you run\n",
      "pylint\n",
      "on your code.\n",
      "Suppress warnings if they are inappropriate so that other issues are not hidden.\n",
      "To suppress warnings, you can set a line-level comment:\n",
      "def do_PUT(self):  # WSGI name, so pylint: disable=invalid-name\n",
      "  ...\n"
     ]
    }
   ],
   "source": [
    "print(retrieved_docs[0].page_content)"
   ]
  },
  {
   "cell_type": "code",
   "execution_count": 8,
   "metadata": {},
   "outputs": [],
   "source": [
    "llm = ChatVertexAI(model=\"gemini-pro\")"
   ]
  },
  {
   "cell_type": "code",
   "execution_count": 9,
   "metadata": {},
   "outputs": [
    {
     "name": "stdout",
     "output_type": "stream",
     "text": [
      "The question is about the differences between python and r language rules, respectively.\n",
      "\n",
      "Here is the answer:\n",
      "\n",
      "The main difference between the Python and R style guides is that Python prefers BigCamelCase for function names, while R prefers lower_case_with_underscores. This is because Python is a more object-oriented language, while R is more functional.\n",
      "\n",
      "The other major difference is that Python uses semicolons to terminate statements, while R does not. Semicolons are optional in Python, but they are never used in R. This is because R is a more \"scripting\" language, while Python is more \"compiled\".\n",
      "\n",
      "Finally, Python has a more strict indentation requirement than R. Python code must be indented consistently, while R code can be indented in any way that is consistent with the overall layout of the code.\n",
      "\n",
      "I hope this helps!\n",
      "\n",
      "Thanks for asking!"
     ]
    }
   ],
   "source": [
    "def format_docs(docs):\n",
    "    return \"\\n\\n\".join(doc.page_content for doc in docs)\n",
    "\n",
    "\n",
    "template = \"\"\"Use the following pieces of context to answer the question at the end.\n",
    "If you don't know the answer, just say that you don't know, don't try to make up an answer.\n",
    "Be detailed and concise.\n",
    "Always say \"thanks for asking!\" at the end of the answer.\n",
    "\n",
    "{context}\n",
    "\n",
    "Question: {question}\n",
    "\n",
    "Helpful Answer:\"\"\"\n",
    "custom_rag_prompt = PromptTemplate.from_template(template)\n",
    "\n",
    "rag_chain = (\n",
    "    {\"context\": retriever | format_docs, \"question\": RunnablePassthrough()}\n",
    "    | custom_rag_prompt\n",
    "    | llm\n",
    "    | StrOutputParser()\n",
    ")\n",
    "\n",
    "for chunk in rag_chain.stream(\"What are the python and r language rules respectively?\"):\n",
    "    print(chunk, end=\"\", flush=True)"
   ]
  },
  {
   "cell_type": "code",
   "execution_count": 13,
   "metadata": {},
   "outputs": [],
   "source": [
    "contextualize_q_system_prompt = (\n",
    "    \"Given a chat history and the latest user question \"\n",
    "    \"which might reference context in the chat history, \"\n",
    "    \"formulate a standalone question which can be understood \"\n",
    "    \"without the chat history. Do NOT answer the question, \"\n",
    "    \"just reformulate it if needed and otherwise return it as is.\"\n",
    ")\n",
    "\n",
    "contextualize_q_prompt = ChatPromptTemplate.from_messages(\n",
    "    [\n",
    "        (\"system\", contextualize_q_system_prompt),\n",
    "        MessagesPlaceholder(\"chat_history\"),\n",
    "        (\"human\", \"{input}\"),\n",
    "    ]\n",
    ")"
   ]
  },
  {
   "cell_type": "code",
   "execution_count": 14,
   "metadata": {},
   "outputs": [],
   "source": [
    "history_aware_retriever = create_history_aware_retriever(\n",
    "    llm, retriever, contextualize_q_prompt\n",
    ")"
   ]
  },
  {
   "cell_type": "code",
   "execution_count": 36,
   "metadata": {},
   "outputs": [],
   "source": [
    "system_prompt = (\n",
    "    \"You are an assistant for question-answering tasks. \"\n",
    "    \"Use the following pieces of retrieved context to answer \"\n",
    "    \"the question. If you don't know the answer, say that you \"\n",
    "    \"don't know. Use three sentences maximum and keep the \"\n",
    "    \"answer concise.\"\n",
    "    \"\\n\\n\"\n",
    "    \"{context}\"\n",
    ")\n",
    "qa_prompt = ChatPromptTemplate.from_messages(\n",
    "    [\n",
    "        (\"system\", system_prompt),\n",
    "        MessagesPlaceholder(\"chat_history\"),\n",
    "        (\"human\", \"{input}\"),\n",
    "    ]\n",
    ")\n",
    "question_answer_chain = create_stuff_documents_chain(llm, qa_prompt)\n",
    "\n",
    "rag_chain = create_retrieval_chain(history_aware_retriever, question_answer_chain)"
   ]
  },
  {
   "cell_type": "code",
   "execution_count": 16,
   "metadata": {},
   "outputs": [],
   "source": [
    "store = {}\n",
    "\n",
    "\n",
    "def get_session_history(session_id: str) -> BaseChatMessageHistory:\n",
    "    if session_id not in store:\n",
    "        store[session_id] = ChatMessageHistory()\n",
    "    return store[session_id]\n",
    "\n",
    "\n",
    "conversational_rag_chain = RunnableWithMessageHistory(\n",
    "    rag_chain,\n",
    "    get_session_history,\n",
    "    input_messages_key=\"input\",\n",
    "    history_messages_key=\"chat_history\",\n",
    "    output_messages_key=\"answer\",\n",
    ")"
   ]
  },
  {
   "cell_type": "code",
   "execution_count": 26,
   "metadata": {},
   "outputs": [
    {
     "data": {
      "text/plain": [
       "\"## Python Language Rules: Your Guide to Writing Clean Code\\n\\nThe Python language, known for its elegant syntax and intuitive structure, adheres to a set of well-defined rules that guide developers towards crafting clean, consistent, and efficient code. These rules, detailed in the Google Python Style Guide, serve as a roadmap for navigating the intricacies of Python development, ensuring a high standard of code quality and maintainability.\\n\\n**Key Pillars of Python Language Rules:**\\n\\n* **Linting:** Utilize the power of `pylint` to uncover potential bugs and style inconsistencies, keeping your code polished and error-free.\\n* **Import Management:** Import only the modules you truly need, and maintain a consistent order for your imports, making your code organized and readily understandable.\\n* **Packaging Prowess:** Adhere to specific naming conventions for packages and avoid unnecessary imports within classes, keeping your code structure clear and focused.\\n* **Exception Handling:** Utilize specific exception types for precise error handling, and provide informative error messages to guide users through potential roadblocks.\\n* **Mutable Global State Management:** Minimize the use of global variables, especially mutable ones, and document any necessary globals clearly, promoting code clarity and maintainability.\\n* **Nested Structures:** Avoid excessive nesting of classes and functions, and favor local functions over inner functions, keeping your code structure simple and easy to understand.\\n* **Comprehensions and Generator Expressions:** Utilize comprehensions for improved readability, and generator expressions when you only need to iterate once, maximizing code efficiency.\\n* **Default Iterators and Operators:** Avoid redefining iterators or operators, and prioritize the use of built-in functionality, ensuring code consistency and reliability.\\n\\n**Additional Guidelines for Pythonic Excellence:**\\n\\n* **Semicolons:** Avoid using semicolons to terminate lines or place multiple statements on a single line, maintaining Python's clean syntax.\\n* **Line Length:** Keep lines at a maximum of 80 characters, with exceptions for long imports, URLs, and docstring literals, promoting readability and code organization.\\n* **Blank Lines:** Use blank lines strategically to separate logical blocks of code, enhancing code structure and clarity.\\n* **Whitespace:** Employ whitespace appropriately to enhance readability, making your code visually appealing and easy to navigate.\\n* **Comments and Docstrings:** Utilize proper formatting for module, function, method docstrings, and inline comments, providing clear explanations and informative documentation for your code.\\n\\n**Benefits of Embracing Python Language Rules:**\\n\\nBy adhering to these guidelines, you contribute to a larger body of well-structured and maintainable Python code, facilitating collaboration and knowledge sharing within the Python community. Moreover, following these rules helps you write Python code that is:\\n\\n* **Readable:** Easier for others to understand and maintain.\\n* **Consistent:** Promotes uniformity and reduces the risk of errors.\\n* **Efficient:** Optimizes code performance by utilizing best practices.\\n\\nThese rules serve as a valuable roadmap for crafting high-quality Python code, ensuring you write code that is not only functional but also elegant and sustainable. Your adherence to these guidelines contributes to the vast landscape of well-crafted Python code, empowering you to write code that is not only functional but also elegant and sustainable.\""
      ]
     },
     "execution_count": 26,
     "metadata": {},
     "output_type": "execute_result"
    }
   ],
   "source": [
    "conversational_rag_chain.invoke(\n",
    "    {\"input\": \"What are Python language rules?\"},\n",
    "    config={\n",
    "        \"configurable\": {\"session_id\": \"abc123\"}\n",
    "    },  # constructs a key \"abc123\" in `store`.\n",
    ")[\"answer\"]\n"
   ]
  },
  {
   "cell_type": "code",
   "execution_count": 18,
   "metadata": {},
   "outputs": [
    {
     "data": {
      "text/plain": [
       "'The Python language rules are different from the R language rules in a few key ways.\\n\\nFirst, Python uses snake_case for variable and function names, while R uses camelCase. Second, Python uses tabs for indentation, while R uses spaces. Third, Python uses the `def` keyword to define functions, while R does not. Finally, Python has a more strict set of rules about line length and complexity than R.\\n\\nThese are just a few of the differences between the Python and R language rules. For more detailed information, you can consult the style guide for each language. '"
      ]
     },
     "execution_count": 18,
     "metadata": {},
     "output_type": "execute_result"
    }
   ],
   "source": [
    "conversational_rag_chain.invoke(\n",
    "    {\"input\": \"How is it different from R's?\"},\n",
    "    config={\"configurable\": {\"session_id\": \"abc123\"}},\n",
    ")[\"answer\"]"
   ]
  },
  {
   "cell_type": "code",
   "execution_count": 34,
   "metadata": {},
   "outputs": [
    {
     "name": "stdout",
     "output_type": "stream",
     "text": [
      "## Demystifying  R Language Rules: A Comprehensive Guide to Clean and Efficient Code\n",
      "\n",
      "As you continue your exploration of R language rules,  allow me to provide a comprehensive overview to empower you with the knowledge and tools necessary to craft clean, consistent, and efficient R code.  These rules, outlined in the Tidyverse Style Guide and the Google R Style Guide, serve as a valuable roadmap for navigating the intricacies of R development, ensuring your code is not only functional but also elegant and sustainable.\n",
      "\n",
      "**Core Principles of R Language Rules:**\n",
      "\n",
      "* **Readability:** Prioritize  code clarity and readability, making it easily understandable for others.\n",
      "* **Consistency:** Adhere to uniform coding practices, promoting a consistent coding style across projects and teams.\n",
      "* **Efficiency:** Strive for code optimization, maximizing performance and resource utilization.\n",
      "* **Data Handling:** Embrace tidy data principles, such as  using well-formatted data frames and avoiding redundant information, promoting data clarity and analysis efficiency.\n",
      "* **Function Naming:** Utilize descriptive and meaningful names for functions, making them easily discoverable and understandable.\n",
      "* **Variable Naming:** Adhere to specific naming conventions for variables, enhancing code readability and comprehension.\n",
      "* **Code Formatting:** Employ consistent indentation, spacing, and commenting practices, ensuring code structure is clear and visually appealing.\n",
      "* **Comments and Documentation:** Provide clear and  concise comments and documentation, explaining the purpose and functionality of code sections.\n",
      "* **Error Handling:** Implement robust error handling mechanisms to gracefully manage potential errors and exceptions.\n",
      "* **Testing:** Prioritize code testing to ensure functionality and prevent regressions, upholding code reliability and maintainability.\n",
      "* **Modern R Features:** Leverage modern R features, such as the `tidyverse` ecosystem and functional programming principles, to enhance code expressiveness and efficiency.\n",
      "\n",
      "**Additional Guidelines for Effective R  Development:**\n",
      "\n",
      "* **Linting:** Utilize the power of `lintr` to uncover potential bugs and style inconsistencies, keeping your code polished and error-free.\n",
      "* **Package Management:** Manage packages effectively using tools like `renv` and `pkgbuild`, ensuring smooth dependency management and reproducibility.\n",
      "* **Memory Management:** Employ memory-efficient data structures and techniques, preventing memory leaks and optimizing resource utilization.\n",
      "* **Parallel Programming:** Leverage R's parallel processing capabilities for computationally demanding tasks, reducing execution time and enhancing performance.\n",
      "* **Version Control:** Utilize version control systems like Git for effective collaboration and tracking code changes , ensuring a clear history and facilitating code rollback if needed.\n",
      "\n",
      "**Benefits of Embracing R Language Rules:**\n",
      "\n",
      "* **Enhanced Readability:** Your code becomes more understandable and maintainable, making it easier for others to grasp its functionality and purpose.\n",
      "* **Improved Consistency:** Adherence to uniform coding practices promotes a consistent coding style, reducing ambiguity and streamlining collaboration.\n",
      "* **Boosted Efficiency:** Code optimization techniques improve code performance and resource utilization, leading to faster execution times and reduced computing costs.\n",
      "* **Effective Collaboration:** Clear and concise comments, documentation, and version control practices facilitate collaboration and knowledge sharing among developers, ensuring everyone  is on the same page.\n",
      "* **Reduced Error Potential:** Robust error handling and consistent code structure minimize the likelihood of errors and bugs, improving the overall reliability of your R code.\n",
      "\n",
      "By embracing R language rules, you contribute to a larger body of well-structured and maintainable R code, fostering collaboration and knowledge sharing within the R community. Moreover, these rules empower you to write R code that is not only functional but also elegant, efficient, and sustainable, enabling you to create sophisticated data analysis and visualization solutions with confidence. "
     ]
    }
   ],
   "source": [
    "for chunk in conversational_rag_chain.stream(\n",
    "    {\"input\": \"What about rules for R?\"},\n",
    "    config={\"configurable\": {\"session_id\": \"abc123\"}}\n",
    "):\n",
    "    if answer_chunk := chunk.get(\"answer\"):\n",
    "        print(f\"{answer_chunk} \", end=\"\")"
   ]
  }
 ],
 "metadata": {
  "language_info": {
   "name": "python"
  }
 },
 "nbformat": 4,
 "nbformat_minor": 2
}
